{
 "cells": [
  {
   "cell_type": "markdown",
   "id": "df35ef55",
   "metadata": {},
   "source": [
    "# Structured Python tutorial roadmap for beginners, intermediate, and advanced learners. \n",
    "Each section will cover necessary topics along with guidance on installing Python and setting up the environment.\n",
    "\n"
   ]
  },
  {
   "cell_type": "markdown",
   "id": "57d33a71",
   "metadata": {},
   "source": [
    "# Requirements & Python Tutorial for Beginners\n",
    "\n"
   ]
  },
  {
   "cell_type": "markdown",
   "id": "0cc79081",
   "metadata": {},
   "source": [
    "# 1. Setting Up the Environment\n",
    "\n"
   ]
  },
  {
   "cell_type": "markdown",
   "id": "494b17c7",
   "metadata": {},
   "source": [
    "# Installation python\n",
    "Step 1: Install # Python: Download Python from the official website python.org. Ensure you check the box \"Add Python to PATH\" during installation."
   ]
  },
  {
   "cell_type": "markdown",
   "id": "77c4c188",
   "metadata": {},
   "source": [
    "# Step 2: Install a Code Editor\n",
    "VS Code: Download Visual Studio Code. It’s a lightweight and flexible IDE for Python.\n",
    "PyCharm: Download PyCharm (Community Edition is free).\n",
    "Jupyter Notebook: Install using pip install notebook for an interactive environment."
   ]
  },
  {
   "cell_type": "markdown",
   "id": "42f84f33",
   "metadata": {},
   "source": [
    "# Launch : command prompt or powershell windows-folder+shift+right click-jupyter notebook -enter"
   ]
  },
  {
   "cell_type": "markdown",
   "id": "e3880ea9",
   "metadata": {},
   "source": [
    "# what is jupyter notebook-Jupyter Notebook is an interactive development environment (IDE) that allows you to write, execute, and document code (mainly Python) in a web-based interface. It is not a framework or library."
   ]
  },
  {
   "cell_type": "markdown",
   "id": "918ebc02",
   "metadata": {},
   "source": [
    "# what is python-Python is a high-level programming language known for its simplicity and readability, used for web development, data analysis, automation, and more"
   ]
  },
  {
   "cell_type": "markdown",
   "id": "b1b24e6e",
   "metadata": {},
   "source": [
    "# 3. Beginner Python Topics\n",
    "Python Basics:\n",
    "Variables, Data Types, and Input/Output\n",
    "Comments, Indentation, and Syntax\n",
    "Basic Arithmetic and Operators\n",
    "\n",
    "Control Structures:\n",
    "if, else, elif statements\n",
    "while and for loops\n",
    "Break and continue statements\n",
    "\n",
    "Data Structures:\n",
    "Lists, Tuples, and Sets\n",
    "Dictionaries\n",
    "\n",
    "Functions:\n",
    "Defining and calling functions\n",
    "Arguments, Return values\n",
    "Lambda expressions\n",
    "\n",
    "String Manipulation:\n",
    "String indexing, slicing, and operations\n",
    "String formatting\n",
    "\n",
    "File Handling:\n",
    "Opening, reading, writing files (open(), read(), write())\n",
    "\n",
    "Error and Exception Handling:\n",
    "Try, Except, and finally\n",
    "\n",
    "Introduction to Modules and Libraries:\n",
    "Importing modules\n",
    "Using standard libraries like math, random, datetime"
   ]
  },
  {
   "cell_type": "markdown",
   "id": "7323077c",
   "metadata": {},
   "source": [
    "#  1 Python Basics\n",
    "Variables, Data Types, and Input/Output"
   ]
  },
  {
   "cell_type": "code",
   "execution_count": 4,
   "id": "6d8601fe",
   "metadata": {},
   "outputs": [
    {
     "name": "stdout",
     "output_type": "stream",
     "text": [
      "My name is Ram, I am 25 years old, and my height is 5.8 meters.\n"
     ]
    }
   ],
   "source": [
    "name = \"Ram\"       # String type\n",
    "age = 25             # Integer type\n",
    "height = 5.8         # Float type\n",
    "is_student = True    # Boolean type\n",
    "\n",
    "# Input/Output\n",
    "print(f\"My name is {name}, I am {age} years old, and my height is {height} meters.\")\n",
    "#use f-strings to insert variables into strings\n"
   ]
  },
  {
   "cell_type": "markdown",
   "id": "62a6ad03",
   "metadata": {},
   "source": [
    "# Input from the User:"
   ]
  },
  {
   "cell_type": "code",
   "execution_count": 3,
   "id": "e95729dd",
   "metadata": {},
   "outputs": [
    {
     "name": "stdout",
     "output_type": "stream",
     "text": [
      "Enter your name: dharm\n",
      "Enter your age: 25\n",
      "Hello dharm, you are 25 years old.\n"
     ]
    }
   ],
   "source": [
    "user_name = input(\"Enter your name: \")  # Accepts string input\n",
    "user_age = int(input(\"Enter your age: \"))  # Accepts integer input\n",
    "print(f\"Hello {user_name}, you are {user_age} years old.\")\n"
   ]
  },
  {
   "cell_type": "markdown",
   "id": "e20991dd",
   "metadata": {},
   "source": [
    "# Comments, Indentation(four spaces), and Syntax"
   ]
  },
  {
   "cell_type": "code",
   "execution_count": 4,
   "id": "395641d4",
   "metadata": {},
   "outputs": [
    {
     "name": "stdout",
     "output_type": "stream",
     "text": [
      "You are an adult.\n"
     ]
    }
   ],
   "source": [
    "# This is a single-line comment\n",
    "\n",
    "\"\"\"\n",
    "This is a multi-line comment\n",
    "explaining the following code.\n",
    "\"\"\"\n",
    "\n",
    "# Example code block\n",
    "if age >= 18:\n",
    "    print(\"You are an adult.\")\n",
    "else:\n",
    "    print(\"You are not an adult.\")\n"
   ]
  },
  {
   "cell_type": "markdown",
   "id": "14c779dc",
   "metadata": {},
   "source": [
    "# Indentation: Python uses indentation (usually 4 spaces) to define code blocks. Code that is part of the same block must be indented to the same level."
   ]
  },
  {
   "cell_type": "code",
   "execution_count": 5,
   "id": "c7255f2a",
   "metadata": {},
   "outputs": [
    {
     "name": "stdout",
     "output_type": "stream",
     "text": [
      "Adult\n"
     ]
    }
   ],
   "source": [
    "# Correct indentation\n",
    "if age >= 18:\n",
    "    print(\"Adult\")\n",
    "else:\n",
    "    print(\"Minor\")\n"
   ]
  },
  {
   "cell_type": "markdown",
   "id": "ebedcf88",
   "metadata": {},
   "source": [
    "# Basic Arithmetic and Operators\n",
    "Python supports basic arithmetic operations like addition, subtraction, multiplication, and division.\n",
    "\n",
    "Operators:\n",
    "+ : Addition\n",
    "- : Subtraction\n",
    "* : Multiplication\n",
    "/ : Division\n",
    "// : Floor Division (returns an integer result)\n",
    "% : Modulus (returns remainder)\n",
    "** : Exponentiation (power)"
   ]
  },
  {
   "cell_type": "code",
   "execution_count": 6,
   "id": "d3056627",
   "metadata": {},
   "outputs": [
    {
     "name": "stdout",
     "output_type": "stream",
     "text": [
      "Addition: 13\n",
      "Subtraction: 7\n",
      "Multiplication: 30\n",
      "Division: 3.3333333333333335\n",
      "Floor Division: 3\n",
      "Modulus: 1\n",
      "Exponentiation: 1000\n"
     ]
    }
   ],
   "source": [
    "a = 10\n",
    "b = 3\n",
    "\n",
    "print(f\"Addition: {a + b}\")        # Output: 13\n",
    "print(f\"Subtraction: {a - b}\")     # Output: 7\n",
    "print(f\"Multiplication: {a * b}\")  # Output: 30\n",
    "print(f\"Division: {a / b}\")        # Output: 3.33 (floating-point result)\n",
    "print(f\"Floor Division: {a // b}\") # Output: 3 (integer result)\n",
    "print(f\"Modulus: {a % b}\")         # Output: 1 (remainder)\n",
    "print(f\"Exponentiation: {a ** b}\") # Output: 1000 (10 raised to the power of 3)\n"
   ]
  },
  {
   "cell_type": "markdown",
   "id": "43e999c6",
   "metadata": {},
   "source": [
    "# 2. Control Structures\n",
    "if, elif, else Statements\n",
    "Control structures allow you to control the flow of your program by executing code based on certain conditions.\n",
    "\n",
    "Syntax:"
   ]
  },
  {
   "cell_type": "code",
   "execution_count": 7,
   "id": "565c7d7d",
   "metadata": {},
   "outputs": [
    {
     "ename": "IndentationError",
     "evalue": "expected an indented block after 'if' statement on line 1 (3181938644.py, line 3)",
     "output_type": "error",
     "traceback": [
      "\u001b[1;36m  Cell \u001b[1;32mIn[7], line 3\u001b[1;36m\u001b[0m\n\u001b[1;33m    elif condition2:\u001b[0m\n\u001b[1;37m    ^\u001b[0m\n\u001b[1;31mIndentationError\u001b[0m\u001b[1;31m:\u001b[0m expected an indented block after 'if' statement on line 1\n"
     ]
    }
   ],
   "source": [
    "if condition:\n",
    "    # code block\n",
    "elif condition2:\n",
    "    # code block\n",
    "else:\n",
    "    # code block\n"
   ]
  },
  {
   "cell_type": "code",
   "execution_count": 8,
   "id": "75526abd",
   "metadata": {},
   "outputs": [
    {
     "name": "stdout",
     "output_type": "stream",
     "text": [
      "You are an adult.\n"
     ]
    }
   ],
   "source": [
    "age = 20\n",
    "\n",
    "if age < 18:\n",
    "    print(\"You are a minor.\")\n",
    "elif age == 18:\n",
    "    print(\"You just became an adult.\")\n",
    "else:\n",
    "    print(\"You are an adult.\")\n"
   ]
  },
  {
   "cell_type": "markdown",
   "id": "389cc6ea",
   "metadata": {},
   "source": [
    "# while and for Loops\n",
    "while Loop:\n",
    "The while loop repeats a block of code as long as a condition is True."
   ]
  },
  {
   "cell_type": "code",
   "execution_count": 9,
   "id": "04257834",
   "metadata": {},
   "outputs": [
    {
     "name": "stdout",
     "output_type": "stream",
     "text": [
      "Count: 1\n",
      "Count: 2\n",
      "Count: 3\n",
      "Count: 4\n",
      "Count: 5\n"
     ]
    }
   ],
   "source": [
    "count = 1\n",
    "while count <= 5:\n",
    "    print(f\"Count: {count}\")\n",
    "    count += 1  # Increment the counter\n"
   ]
  },
  {
   "cell_type": "markdown",
   "id": "47a46377",
   "metadata": {},
   "source": [
    "# for Loop:\n",
    "The for loop is used to iterate over a sequence (like a list or range)."
   ]
  },
  {
   "cell_type": "code",
   "execution_count": 10,
   "id": "7c43101b",
   "metadata": {},
   "outputs": [
    {
     "name": "stdout",
     "output_type": "stream",
     "text": [
      "Number: 1\n",
      "Number: 2\n",
      "Number: 3\n",
      "Number: 4\n",
      "Number: 5\n"
     ]
    }
   ],
   "source": [
    "# Loop through a range of numbers\n",
    "for i in range(1, 6):  # Loop from 1 to 5\n",
    "    print(f\"Number: {i}\")\n"
   ]
  },
  {
   "cell_type": "markdown",
   "id": "365cc642",
   "metadata": {},
   "source": [
    "# Iterating over a List:"
   ]
  },
  {
   "cell_type": "code",
   "execution_count": 12,
   "id": "04583918",
   "metadata": {},
   "outputs": [
    {
     "name": "stdout",
     "output_type": "stream",
     "text": [
      "apple\n",
      "banana\n",
      "cherry\n"
     ]
    }
   ],
   "source": [
    "fruits = [\"apple\", \"banana\", \"cherry\"]\n",
    "for fruit in fruits:\n",
    "    print(fruit)\n"
   ]
  },
  {
   "cell_type": "markdown",
   "id": "00d3a775",
   "metadata": {},
   "source": [
    "# Break and Continue Statements\n",
    "break: Terminates the loop.\n",
    "continue: Skips the current iteration.\n",
    "Example with break:"
   ]
  },
  {
   "cell_type": "code",
   "execution_count": 13,
   "id": "baac8dd0",
   "metadata": {},
   "outputs": [
    {
     "name": "stdout",
     "output_type": "stream",
     "text": [
      "1\n",
      "2\n",
      "3\n",
      "4\n"
     ]
    }
   ],
   "source": [
    "for i in range(1, 10):\n",
    "    if i == 5:\n",
    "        break  # Exit loop when i equals 5\n",
    "    print(i)\n"
   ]
  },
  {
   "cell_type": "markdown",
   "id": "24dfb9c2",
   "metadata": {},
   "source": [
    "# Example with continue:"
   ]
  },
  {
   "cell_type": "code",
   "execution_count": 14,
   "id": "312a3ceb",
   "metadata": {},
   "outputs": [
    {
     "name": "stdout",
     "output_type": "stream",
     "text": [
      "1\n",
      "2\n",
      "3\n",
      "4\n",
      "6\n",
      "7\n",
      "8\n",
      "9\n"
     ]
    }
   ],
   "source": [
    "for i in range(1, 10):\n",
    "    if i == 5:\n",
    "        continue  # Skip the iteration when i equals 5\n",
    "    print(i)\n"
   ]
  },
  {
   "cell_type": "markdown",
   "id": "e64821fb",
   "metadata": {},
   "source": [
    "# 3. Data Structures\n",
    "Lists, Tuples, and Sets\n",
    "-List: Ordered, mutable collection.\n",
    "-Tuple: Ordered, immutable collection.\n",
    "-Set: Unordered, mutable collection with no duplicates.\n",
    "Example of Lists:"
   ]
  },
  {
   "cell_type": "code",
   "execution_count": 15,
   "id": "310e982a",
   "metadata": {},
   "outputs": [
    {
     "name": "stdout",
     "output_type": "stream",
     "text": [
      "apple\n",
      "['apple', 'blueberry', 'cherry']\n",
      "['apple', 'blueberry', 'cherry', 'orange']\n"
     ]
    }
   ],
   "source": [
    "# List of fruits\n",
    "fruits = [\"apple\", \"banana\", \"cherry\"]\n",
    "\n",
    "# Accessing elements\n",
    "print(fruits[0])  # Output: apple\n",
    "\n",
    "# Modifying elements\n",
    "fruits[1] = \"blueberry\"\n",
    "print(fruits)  # Output: ['apple', 'blueberry', 'cherry']\n",
    "\n",
    "# Adding elements\n",
    "fruits.append(\"orange\")\n",
    "print(fruits)  # Output: ['apple', 'blueberry', 'cherry', 'orange']\n"
   ]
  },
  {
   "cell_type": "markdown",
   "id": "cf502c3d",
   "metadata": {},
   "source": [
    "# Example of Tuples:"
   ]
  },
  {
   "cell_type": "code",
   "execution_count": 16,
   "id": "994fc78f",
   "metadata": {},
   "outputs": [
    {
     "name": "stdout",
     "output_type": "stream",
     "text": [
      "10\n"
     ]
    }
   ],
   "source": [
    "# Tuple of coordinates\n",
    "coordinates = (10, 20)\n",
    "print(coordinates[0])  # Output: 10\n",
    "\n",
    "# Tuples are immutable, so you cannot modify their values.\n"
   ]
  },
  {
   "cell_type": "markdown",
   "id": "41315702",
   "metadata": {},
   "source": [
    "# Example of Sets:"
   ]
  },
  {
   "cell_type": "code",
   "execution_count": 17,
   "id": "562cdb73",
   "metadata": {},
   "outputs": [
    {
     "name": "stdout",
     "output_type": "stream",
     "text": [
      "{1, 2, 3, 4}\n",
      "{1, 2, 3, 4, 5}\n"
     ]
    }
   ],
   "source": [
    "# Set of numbers\n",
    "numbers = {1, 2, 3, 3, 4}\n",
    "print(numbers)  # Output: {1, 2, 3, 4} (no duplicates)\n",
    "\n",
    "# Add an element\n",
    "numbers.add(5)\n",
    "print(numbers)  # Output: {1, 2, 3, 4, 5}\n"
   ]
  },
  {
   "cell_type": "markdown",
   "id": "80c2c7bc",
   "metadata": {},
   "source": [
    "# Dictionaries\n",
    "A dictionary is a collection of key-value pairs.\n",
    "\n",
    "Example:"
   ]
  },
  {
   "cell_type": "code",
   "execution_count": 5,
   "id": "65b150a4",
   "metadata": {},
   "outputs": [
    {
     "name": "stdout",
     "output_type": "stream",
     "text": [
      "Sohan\n",
      "{'name': 'Sohan', 'age': 31, 'city': 'New Delhi'}\n",
      "{'name': 'Sohan', 'age': 31, 'city': 'New Delhi', 'occupation': 'Engineer'}\n"
     ]
    }
   ],
   "source": [
    "person = {\n",
    "    \"name\": \"Sohan\",\n",
    "    \"age\": 30,\n",
    "    \"city\": \"New Delhi\"\n",
    "}\n",
    "\n",
    "# Accessing values\n",
    "print(person[\"name\"])  # Output: John\n",
    "\n",
    "# Modifying values\n",
    "person[\"age\"] = 31\n",
    "print(person)  # Output: {'name': 'John', 'age': 31, 'city': 'New York'}\n",
    "\n",
    "# Adding new key-value pairs\n",
    "person[\"occupation\"] = \"Engineer\"\n",
    "print(person)  # Output: {'name': 'John', 'age': 31, 'city': 'New York', 'occupation': 'Engineer'}\n"
   ]
  },
  {
   "cell_type": "markdown",
   "id": "8f1a9e6b",
   "metadata": {},
   "source": [
    "# 4. Functions\n",
    "Defining and Calling Functions\n",
    "A function is a block of reusable code that performs a specific task.\n",
    "\n",
    "Syntax:"
   ]
  },
  {
   "cell_type": "code",
   "execution_count": 19,
   "id": "cb3c0c5d",
   "metadata": {},
   "outputs": [],
   "source": [
    "def function_name(parameters):\n",
    "    # function body\n",
    "    return value\n"
   ]
  },
  {
   "cell_type": "markdown",
   "id": "ce501b19",
   "metadata": {},
   "source": [
    "# Example:"
   ]
  },
  {
   "cell_type": "code",
   "execution_count": 1,
   "id": "a688c915",
   "metadata": {},
   "outputs": [
    {
     "name": "stdout",
     "output_type": "stream",
     "text": [
      "Hello, Dharm!\n"
     ]
    }
   ],
   "source": [
    "# Function to greet a person\n",
    "def greet(name):\n",
    "    return f\"Hello, {name}!\"\n",
    "\n",
    "# Calling the function\n",
    "message = greet(\"Dharm\")\n",
    "print(message)  # Output: Hello, Dharm!\n"
   ]
  },
  {
   "cell_type": "markdown",
   "id": "5baac76d",
   "metadata": {},
   "source": [
    "# Arguments, Return Values\n",
    "Functions can take multiple arguments and return values.\n",
    "\n",
    "Example:"
   ]
  },
  {
   "cell_type": "code",
   "execution_count": 21,
   "id": "0a733cb7",
   "metadata": {},
   "outputs": [
    {
     "name": "stdout",
     "output_type": "stream",
     "text": [
      "8\n"
     ]
    }
   ],
   "source": [
    "# Function to add two numbers\n",
    "def add(a, b):\n",
    "    return a + b\n",
    "\n",
    "result = add(3, 5)\n",
    "print(result)  # Output: 8\n"
   ]
  },
  {
   "cell_type": "markdown",
   "id": "bb64cf1b",
   "metadata": {},
   "source": [
    "# Lambda Expressions\n",
    "Lambda functions are small, anonymous functions defined with the lambda keyword.\n",
    "\n",
    "Syntax:"
   ]
  },
  {
   "cell_type": "code",
   "execution_count": 22,
   "id": "3f8c7beb",
   "metadata": {},
   "outputs": [
    {
     "data": {
      "text/plain": [
       "<function __main__.<lambda>(arguments)>"
      ]
     },
     "execution_count": 22,
     "metadata": {},
     "output_type": "execute_result"
    }
   ],
   "source": [
    "lambda arguments: expression\n"
   ]
  },
  {
   "cell_type": "code",
   "execution_count": 23,
   "id": "0094635a",
   "metadata": {},
   "outputs": [
    {
     "name": "stdout",
     "output_type": "stream",
     "text": [
      "16\n"
     ]
    }
   ],
   "source": [
    "# Lambda function to square a number\n",
    "square = lambda x: x ** 2\n",
    "print(square(4))  # Output: 16\n"
   ]
  },
  {
   "cell_type": "markdown",
   "id": "803c2a41",
   "metadata": {},
   "source": [
    "# 5. String Manipulation\n",
    "String Indexing, Slicing, and Operations\n",
    "Strings are sequences of characters and can be accessed using indexing and slicing.\n",
    "\n",
    "Example:"
   ]
  },
  {
   "cell_type": "code",
   "execution_count": 2,
   "id": "4ec55238",
   "metadata": {},
   "outputs": [
    {
     "name": "stdout",
     "output_type": "stream",
     "text": [
      "H\n",
      "Hello\n",
      "World!\n"
     ]
    }
   ],
   "source": [
    "text = \"Hello, World!\"\n",
    "\n",
    "# Indexing\n",
    "print(text[0])   # Output: H\n",
    "\n",
    "# Slicing\n",
    "print(text[0:5])  # Output: Hello\n",
    "print(text[-6:])  # refers to the 6th character from the end of the string (in this case, the letter \"W\" in \"World!\").Output: World!\n"
   ]
  },
  {
   "cell_type": "markdown",
   "id": "c99dbc36",
   "metadata": {},
   "source": [
    "# String Operations:"
   ]
  },
  {
   "cell_type": "code",
   "execution_count": 25,
   "id": "363c1e63",
   "metadata": {},
   "outputs": [
    {
     "name": "stdout",
     "output_type": "stream",
     "text": [
      "python programming\n",
      "PYTHON PROGRAMMING\n"
     ]
    }
   ],
   "source": [
    "text = \"Python Programming\"\n",
    "print(text.lower())  # Output: python programming\n",
    "print(text.upper())  # Output: PYTHON PROGRAMMING\n"
   ]
  },
  {
   "cell_type": "markdown",
   "id": "7778a68a",
   "metadata": {},
   "source": [
    "# String Formatting\n",
    "You can use f-strings to insert variables into strings"
   ]
  },
  {
   "cell_type": "code",
   "execution_count": 6,
   "id": "d721e6bc",
   "metadata": {},
   "outputs": [
    {
     "name": "stdout",
     "output_type": "stream",
     "text": [
      "My name is Ram and I am 25 years old.\n"
     ]
    }
   ],
   "source": [
    "name = \"Ram\"\n",
    "age = 25\n",
    "print(f\"My name is {name} and I am {age} years old.\")\n"
   ]
  },
  {
   "cell_type": "markdown",
   "id": "a3f4053e",
   "metadata": {},
   "source": [
    "# 6. File Handling\n",
    "Opening, Reading, and Writing Files\n",
    "To work with files, use open(). Always close files after use.\n",
    "\n",
    "Example:"
   ]
  },
  {
   "cell_type": "code",
   "execution_count": 7,
   "id": "7976734c",
   "metadata": {},
   "outputs": [
    {
     "name": "stdout",
     "output_type": "stream",
     "text": [
      "Hello, file!\n"
     ]
    }
   ],
   "source": [
    "# Writing to a file\n",
    "file = open(\"example.txt\", \"w\")\n",
    "file.write(\"Hello, file!\")\n",
    "file.close()\n",
    "\n",
    "# Reading from a file\n",
    "file = open(\"example.txt\", \"r\")\n",
    "content = file.read()\n",
    "print(content)  # Output: Hello, file!\n",
    "file.close()\n"
   ]
  },
  {
   "cell_type": "markdown",
   "id": "35aaeba4",
   "metadata": {},
   "source": [
    "# 7. Error and Exception Handling\n",
    "Try, Except, and Finally\n",
    "Exception handling prevents your program from crashing when an error occurs.\n",
    "\n",
    "Syntax:"
   ]
  },
  {
   "cell_type": "code",
   "execution_count": 8,
   "id": "71ffa23c",
   "metadata": {},
   "outputs": [
    {
     "ename": "IndentationError",
     "evalue": "expected an indented block after 'try' statement on line 1 (3516230660.py, line 3)",
     "output_type": "error",
     "traceback": [
      "\u001b[1;36m  Cell \u001b[1;32mIn[8], line 3\u001b[1;36m\u001b[0m\n\u001b[1;33m    except SomeException:\u001b[0m\n\u001b[1;37m    ^\u001b[0m\n\u001b[1;31mIndentationError\u001b[0m\u001b[1;31m:\u001b[0m expected an indented block after 'try' statement on line 1\n"
     ]
    }
   ],
   "source": [
    "try:\n",
    "    # Code that may raise an exception\n",
    "except SomeException:\n",
    "    # Code to handle the exception\n",
    "finally:\n",
    "    # Code that will run no matter what\n"
   ]
  },
  {
   "cell_type": "markdown",
   "id": "63f9b92c",
   "metadata": {},
   "source": [
    "# Example:"
   ]
  },
  {
   "cell_type": "code",
   "execution_count": 29,
   "id": "36e9cad4",
   "metadata": {},
   "outputs": [
    {
     "name": "stdout",
     "output_type": "stream",
     "text": [
      "You cannot divide by zero!\n",
      "This will always execute.\n"
     ]
    }
   ],
   "source": [
    "try:\n",
    "    result = 10 / 0\n",
    "except ZeroDivisionError:\n",
    "    print(\"You cannot divide by zero!\")\n",
    "finally:\n",
    "    print(\"This will always execute.\")\n"
   ]
  },
  {
   "cell_type": "markdown",
   "id": "6b9adb90",
   "metadata": {},
   "source": [
    "# 8. Introduction to Modules and Libraries\n",
    "Importing Modules\n",
    "Modules are files containing Python code that can be imported into your programs.\n",
    "\n",
    "Example:"
   ]
  },
  {
   "cell_type": "code",
   "execution_count": 30,
   "id": "1e7a51ce",
   "metadata": {},
   "outputs": [
    {
     "name": "stdout",
     "output_type": "stream",
     "text": [
      "4.0\n"
     ]
    }
   ],
   "source": [
    "import math\n",
    "\n",
    "# Using the math module\n",
    "print(math.sqrt(16))  # Output: 4.0\n"
   ]
  },
  {
   "cell_type": "markdown",
   "id": "d36dcff0",
   "metadata": {},
   "source": [
    "# Using Standard Libraries:"
   ]
  },
  {
   "cell_type": "code",
   "execution_count": 31,
   "id": "8ecf225c",
   "metadata": {},
   "outputs": [
    {
     "name": "stdout",
     "output_type": "stream",
     "text": [
      "1\n",
      "2024-09-05 12:19:10.463501\n"
     ]
    }
   ],
   "source": [
    "import random\n",
    "print(random.randint(1, 10))  # Random number between 1 and 10\n",
    "\n",
    "import datetime\n",
    "current_time = datetime.datetime.now()\n",
    "print(current_time)\n"
   ]
  },
  {
   "cell_type": "markdown",
   "id": "38f23b33",
   "metadata": {},
   "source": [
    "# complete code for a simple calculator:"
   ]
  },
  {
   "cell_type": "code",
   "execution_count": 1,
   "id": "546b7e5b",
   "metadata": {},
   "outputs": [
    {
     "name": "stdout",
     "output_type": "stream",
     "text": [
      "Enter the first number: 11\n",
      "Enter the second number: 3\n",
      "Choose operation (+, -, *, /): +\n",
      "The result is: 14.0\n"
     ]
    }
   ],
   "source": [
    "# Simple Calculator\n",
    "\n",
    "# Get user input\n",
    "num1 = float(input(\"Enter the first number: \"))\n",
    "num2 = float(input(\"Enter the second number: \"))\n",
    "operation = input(\"Choose operation (+, -, *, /): \")\n",
    "\n",
    "# Perform the operation\n",
    "if operation == '+':\n",
    "    result = num1 + num2\n",
    "elif operation == '-':\n",
    "    result = num1 - num2\n",
    "elif operation == '*':\n",
    "    result = num1 * num2\n",
    "elif operation == '/':\n",
    "    result = num1 / num2\n",
    "else:\n",
    "    result = \"Invalid operation!\"\n",
    "\n",
    "# Display the result\n",
    "print(f\"The result is: {result}\")"
   ]
  },
  {
   "cell_type": "markdown",
   "id": "365afced",
   "metadata": {},
   "source": [
    "# Discuss Possible Enhancements\n",
    "Encourage the learner to improve the calculator by:\n",
    "\n",
    "Adding more operations (e.g., exponentiation, modulus).\n",
    "Handling division by zero errors.\n",
    "Using functions to organize the code better:"
   ]
  },
  {
   "cell_type": "code",
   "execution_count": 2,
   "id": "9146a20e",
   "metadata": {},
   "outputs": [
    {
     "name": "stdout",
     "output_type": "stream",
     "text": [
      "Enter the first number: 10\n",
      "Enter the second number: 0\n",
      "Choose operation (+, -, *, /): /\n",
      "The result is: Error! Division by zero.\n"
     ]
    }
   ],
   "source": [
    "def add(x, y):\n",
    "    return x + y\n",
    "\n",
    "def subtract(x, y):\n",
    "    return x - y\n",
    "\n",
    "def multiply(x, y):\n",
    "    return x * y\n",
    "\n",
    "def divide(x, y):\n",
    "    if y == 0:\n",
    "        return \"Error! Division by zero.\"\n",
    "    return x / y\n",
    "\n",
    "# Use a dictionary to map operations\n",
    "operations = {\n",
    "    '+': add,\n",
    "    '-': subtract,\n",
    "    '*': multiply,\n",
    "    '/': divide\n",
    "}\n",
    "\n",
    "num1 = float(input(\"Enter the first number: \"))\n",
    "num2 = float(input(\"Enter the second number: \"))\n",
    "operation = input(\"Choose operation (+, -, *, /): \")\n",
    "\n",
    "if operation in operations:\n",
    "    result = operations[operation](num1, num2)\n",
    "else:\n",
    "    result = \"Invalid operation!\"\n",
    "\n",
    "print(f\"The result is: {result}\")"
   ]
  },
  {
   "cell_type": "markdown",
   "id": "65c5b008",
   "metadata": {},
   "source": [
    "# Next Steps: After this project, we could move on to creating a more complex scientific calculator, implementing a GUI calculator using Tkinter, or applying Python to solve problems in data science (e.g., calculating statistics)."
   ]
  },
  {
   "cell_type": "code",
   "execution_count": null,
   "id": "378772ec",
   "metadata": {},
   "outputs": [],
   "source": [
    "import tkinter as tk\n",
    "from math import *\n",
    "\n",
    "root = tk.Tk()\n",
    "root.title(\"Scientific Calculator\")\n",
    "root.geometry(\"400x600\")\n",
    "\n",
    "display = tk.Entry(root, font=(\"Arial\", 20), bd=10, insertwidth=4, width=14, borderwidth=4)\n",
    "display.grid(row=0, column=0, columnspan=4)\n",
    "\n",
    "def click_button(value):\n",
    "    current = display.get()\n",
    "    display.delete(0, tk.END)\n",
    "    display.insert(0, current + str(value))\n",
    "\n",
    "def clear_display():\n",
    "    display.delete(0, tk.END)\n",
    "\n",
    "def calculate():\n",
    "    try:\n",
    "        result = eval(display.get())\n",
    "        display.delete(0, tk.END)\n",
    "        display.insert(0, result)\n",
    "    except:\n",
    "        display.delete(0, tk.END)\n",
    "        display.insert(0, \"Error\")\n",
    "\n",
    "buttons = [\n",
    "    '7', '8', '9', '/', 'sin', 'cos', 'tan', 'log',\n",
    "    '4', '5', '6', '*', 'sqrt', '^', '(', ')',\n",
    "    '1', '2', '3', '-', 'pi', 'e', '.', '0',\n",
    "    'C', '=', '+'\n",
    "]\n",
    "\n",
    "row = 1\n",
    "col = 0\n",
    "\n",
    "for button in buttons:\n",
    "    if button == '=':\n",
    "        tk.Button(root, text=button, padx=20, pady=20, font=(\"Arial\", 14), command=calculate).grid(row=row, column=col)\n",
    "    elif button == 'C':\n",
    "        tk.Button(root, text=button, padx=20, pady=20, font=(\"Arial\", 14), command=clear_display).grid(row=row, column=col)\n",
    "    elif button == 'sqrt':\n",
    "        tk.Button(root, text=button, padx=20, pady=20, font=(\"Arial\", 14), command=lambda: click_button(\"sqrt(\")).grid(row=row, column=col)\n",
    "    elif button == '^':\n",
    "        tk.Button(root, text=button, padx=20, pady=20, font=(\"Arial\", 14), command=lambda: click_button(\"**\")).grid(row=row, column=col)\n",
    "    elif button == 'pi':\n",
    "        tk.Button(root, text=button, padx=20, pady=20, font=(\"Arial\", 14), command=lambda: click_button(\"pi\")).grid(row=row, column=col)\n",
    "    elif button == 'e':\n",
    "        tk.Button(root, text=button, padx=20, pady=20, font=(\"Arial\", 14), command=lambda: click_button(\"e\")).grid(row=row, column=col)\n",
    "    elif button in ['sin', 'cos', 'tan', 'log']:\n",
    "        tk.Button(root, text=button, padx=20, pady=20, font=(\"Arial\", 14), command=lambda b=button: click_button(f\"{b}(\")).grid(row=row, column=col)\n",
    "    else:\n",
    "        tk.Button(root, text=button, padx=20, pady=20, font=(\"Arial\", 14), command=lambda b=button: click_button(b)).grid(row=row, column=col)\n",
    "    \n",
    "    col += 1\n",
    "    if col > 3:\n",
    "        col = 0\n",
    "        row += 1\n",
    "\n",
    "root.mainloop()\n"
   ]
  },
  {
   "cell_type": "code",
   "execution_count": null,
   "id": "e235dd16",
   "metadata": {},
   "outputs": [],
   "source": []
  },
  {
   "cell_type": "markdown",
   "id": "8c58f9a5",
   "metadata": {},
   "source": [
    "# Creating a number guessing game in Jupyter Notebook is a simple and fun project for beginners. The game will involve a player trying to guess a randomly generated number within a certain range. Let's walk through the process of building it step by step.\n",
    "\n",
    "Project Overview:\n",
    "The computer generates a random number between a given range (say 1 to 100).\n",
    "The player tries to guess the number.\n",
    "After each guess, the program will tell the player if their guess was too high, too low, or correct.\n",
    "The game continues until the player guesses the correct number."
   ]
  },
  {
   "cell_type": "code",
   "execution_count": null,
   "id": "a0207ee0",
   "metadata": {},
   "outputs": [
    {
     "name": "stdout",
     "output_type": "stream",
     "text": [
      "Welcome to the Number Guessing Game!\n",
      "I have selected a number between 1 and 100. Can you guess it?\n"
     ]
    }
   ],
   "source": [
    "import random\n",
    "\n",
    "def number_guessing_game():\n",
    "    # Step 3: Define the range and generate a random number\n",
    "    lower_bound = 1\n",
    "    upper_bound = 100\n",
    "    random_number = random.randint(lower_bound, upper_bound)\n",
    "    \n",
    "    print(f\"Welcome to the Number Guessing Game!\")\n",
    "    print(f\"I have selected a number between {lower_bound} and {upper_bound}. Can you guess it?\")\n",
    "    \n",
    "    attempts = 0  # To keep track of the number of attempts\n",
    "    \n",
    "    # Step 4: Implement the guessing loop\n",
    "    while True:\n",
    "        try:\n",
    "            # Step 5: Take user input and validate\n",
    "            guess = int(input(f\"Enter your guess (between {lower_bound} and {upper_bound}): \"))\n",
    "            attempts += 1\n",
    "            \n",
    "            # Step 6: Provide feedback\n",
    "            if guess < lower_bound or guess > upper_bound:\n",
    "                print(f\"Please enter a number within the range {lower_bound} to {upper_bound}.\")\n",
    "            elif guess < random_number:\n",
    "                print(f\"Too low! Try again.\")\n",
    "            elif guess > random_number:\n",
    "                print(f\"Too high! Try again.\")\n",
    "            else:\n",
    "                print(f\"Congratulations! You've guessed the correct number in {attempts} attempts.\")\n",
    "                break\n",
    "        \n",
    "        except ValueError:\n",
    "            print(\"Invalid input. Please enter an integer.\")\n",
    "            \n",
    "# Start the game\n",
    "number_guessing_game()\n"
   ]
  },
  {
   "cell_type": "code",
   "execution_count": null,
   "id": "3b644cce",
   "metadata": {},
   "outputs": [],
   "source": []
  }
 ],
 "metadata": {
  "kernelspec": {
   "display_name": "Python 3 (ipykernel)",
   "language": "python",
   "name": "python3"
  },
  "language_info": {
   "codemirror_mode": {
    "name": "ipython",
    "version": 3
   },
   "file_extension": ".py",
   "mimetype": "text/x-python",
   "name": "python",
   "nbconvert_exporter": "python",
   "pygments_lexer": "ipython3",
   "version": "3.11.5"
  }
 },
 "nbformat": 4,
 "nbformat_minor": 5
}
