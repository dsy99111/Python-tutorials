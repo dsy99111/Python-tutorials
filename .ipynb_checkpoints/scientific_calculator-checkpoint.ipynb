{
 "cells": [
  {
   "cell_type": "code",
   "execution_count": null,
   "id": "02d758df",
   "metadata": {},
   "outputs": [],
   "source": [
    "import tkinter as tk\n",
    "from math import *\n",
    "\n",
    "root = tk.Tk()\n",
    "root.title(\"Scientific Calculator\")\n",
    "root.geometry(\"400x600\")\n",
    "\n",
    "display = tk.Entry(root, font=(\"Arial\", 20), bd=10, insertwidth=4, width=14, borderwidth=4)\n",
    "display.grid(row=0, column=0, columnspan=4)\n",
    "\n",
    "def click_button(value):\n",
    "    current = display.get()\n",
    "    display.delete(0, tk.END)\n",
    "    display.insert(0, current + str(value))\n",
    "\n",
    "def clear_display():\n",
    "    display.delete(0, tk.END)\n",
    "\n",
    "def calculate():\n",
    "    try:\n",
    "        result = eval(display.get())\n",
    "        display.delete(0, tk.END)\n",
    "        display.insert(0, result)\n",
    "    except:\n",
    "        display.delete(0, tk.END)\n",
    "        display.insert(0, \"Error\")\n",
    "\n",
    "buttons = [\n",
    "    '7', '8', '9', '/', 'sin', 'cos', 'tan', 'log',\n",
    "    '4', '5', '6', '*', 'sqrt', '^', '(', ')',\n",
    "    '1', '2', '3', '-', 'pi', 'e', '.', '0',\n",
    "    'C', '=', '+'\n",
    "]\n",
    "\n",
    "row = 1\n",
    "col = 0\n",
    "\n",
    "for button in buttons:\n",
    "    if button == '=':\n",
    "        tk.Button(root, text=button, padx=20, pady=20, font=(\"Arial\", 14), command=calculate).grid(row=row, column=col)\n",
    "    elif button == 'C':\n",
    "        tk.Button(root, text=button, padx=20, pady=20, font=(\"Arial\", 14), command=clear_display).grid(row=row, column=col)\n",
    "    elif button == 'sqrt':\n",
    "        tk.Button(root, text=button, padx=20, pady=20, font=(\"Arial\", 14), command=lambda: click_button(\"sqrt(\")).grid(row=row, column=col)\n",
    "    elif button == '^':\n",
    "        tk.Button(root, text=button, padx=20, pady=20, font=(\"Arial\", 14), command=lambda: click_button(\"**\")).grid(row=row, column=col)\n",
    "    elif button == 'pi':\n",
    "        tk.Button(root, text=button, padx=20, pady=20, font=(\"Arial\", 14), command=lambda: click_button(\"pi\")).grid(row=row, column=col)\n",
    "    elif button == 'e':\n",
    "        tk.Button(root, text=button, padx=20, pady=20, font=(\"Arial\", 14), command=lambda: click_button(\"e\")).grid(row=row, column=col)\n",
    "    elif button in ['sin', 'cos', 'tan', 'log']:\n",
    "        tk.Button(root, text=button, padx=20, pady=20, font=(\"Arial\", 14), command=lambda b=button: click_button(f\"{b}(\")).grid(row=row, column=col)\n",
    "    else:\n",
    "        tk.Button(root, text=button, padx=20, pady=20, font=(\"Arial\", 14), command=lambda b=button: click_button(b)).grid(row=row, column=col)\n",
    "    \n",
    "    col += 1\n",
    "    if col > 3:\n",
    "        col = 0\n",
    "        row += 1\n",
    "\n",
    "root.mainloop()\n"
   ]
  },
  {
   "cell_type": "code",
   "execution_count": null,
   "id": "bd6708de",
   "metadata": {},
   "outputs": [],
   "source": [
    "!jupyter nbconvert --to script your_notebook.ipynb\n"
   ]
  },
  {
   "cell_type": "code",
   "execution_count": null,
   "id": "957cdf2a",
   "metadata": {},
   "outputs": [],
   "source": []
  }
 ],
 "metadata": {
  "kernelspec": {
   "display_name": "Python 3 (ipykernel)",
   "language": "python",
   "name": "python3"
  },
  "language_info": {
   "codemirror_mode": {
    "name": "ipython",
    "version": 3
   },
   "file_extension": ".py",
   "mimetype": "text/x-python",
   "name": "python",
   "nbconvert_exporter": "python",
   "pygments_lexer": "ipython3",
   "version": "3.11.5"
  }
 },
 "nbformat": 4,
 "nbformat_minor": 5
}
